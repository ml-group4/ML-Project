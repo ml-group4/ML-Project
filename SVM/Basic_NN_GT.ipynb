{
 "cells": [
  {
   "cell_type": "code",
   "execution_count": 1,
   "metadata": {},
   "outputs": [
    {
     "name": "stderr",
     "output_type": "stream",
     "text": [
      "Using TensorFlow backend.\n"
     ]
    }
   ],
   "source": [
    "import tensorflow as tf\n",
    "from keras.models import Model\n",
    "from keras.layers import Dense, Dropout, Activation, Conv2D, Flatten, MaxPooling2D, Input\n",
    "import matplotlib.pyplot as plt\n",
    "from keras.callbacks import TensorBoard\n",
    "import numpy as np\n",
    "import time\n",
    "import keras\n",
    "from keras.models import Sequential"
   ]
  },
  {
   "cell_type": "code",
   "execution_count": 7,
   "metadata": {},
   "outputs": [],
   "source": [
    "X = np.load('features.npy')/255\n",
    "y = np.load('labels.npy')"
   ]
  },
  {
   "cell_type": "code",
   "execution_count": null,
   "metadata": {},
   "outputs": [],
   "source": []
  },
  {
   "cell_type": "code",
   "execution_count": 80,
   "metadata": {},
   "outputs": [],
   "source": [
    "inputs = Input(shape=(32,32,3))\n",
    "\n",
    "x = Flatten(input_shape=(32, 32, 3))(inputs)\n",
    "\n",
    "x = Dense(256, activation='relu')(x)\n",
    "block_1_output = Dropout(0)(x)\n",
    "\n",
    "x = Dense(1024, activation='relu')(block_1_output)\n",
    "block_2_output = Dropout(0.25)(x)\n",
    "\n",
    "#x = Dense(1024, activation='relu')(block_2_output)\n",
    "#block_3_output = Dropout(0.05)(x)\n",
    "\n",
    "#x = Dense(512, activation='relu')(block_3_output)\n",
    "#block_4_output = Dropout(0.05)(x)\n",
    "\n",
    "x = Dense(256, activation='relu')(block_2_output)\n",
    "block_5_output = Dropout(0.05)(x)\n",
    "\n",
    "\n",
    "prediction = Dense(43, activation='sigmoid')(block_5_output)\n",
    "\n",
    "\n",
    "\n",
    "model_1 = Model(inputs=inputs, outputs=prediction)"
   ]
  },
  {
   "cell_type": "code",
   "execution_count": 81,
   "metadata": {},
   "outputs": [],
   "source": [
    "model_1.compile(loss='categorical_crossentropy', optimizer='adam', metrics=['accuracy'])"
   ]
  },
  {
   "cell_type": "code",
   "execution_count": null,
   "metadata": {},
   "outputs": [
    {
     "name": "stdout",
     "output_type": "stream",
     "text": [
      "Train on 27446 samples, validate on 11763 samples\n",
      "Epoch 1/10\n",
      " 7616/27446 [=======>......................] - ETA: 3s - loss: 3.2215 - accuracy: 0.1016"
     ]
    }
   ],
   "source": [
    "model_1.fit(X, y, batch_size=32, epochs=10, validation_split=0.3)# callbacks=[tensorboard])"
   ]
  }
 ],
 "metadata": {
  "kernelspec": {
   "display_name": "Python 3",
   "language": "python",
   "name": "python3"
  },
  "language_info": {
   "codemirror_mode": {
    "name": "ipython",
    "version": 3
   },
   "file_extension": ".py",
   "mimetype": "text/x-python",
   "name": "python",
   "nbconvert_exporter": "python",
   "pygments_lexer": "ipython3",
   "version": "3.7.4"
  }
 },
 "nbformat": 4,
 "nbformat_minor": 2
}
