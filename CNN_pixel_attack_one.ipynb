{
 "cells": [
  {
   "cell_type": "code",
   "execution_count": 1,
   "metadata": {},
   "outputs": [
    {
     "name": "stderr",
     "output_type": "stream",
     "text": [
      "E:\\Programme\\anaconda\\envs\\PythonGPU\\lib\\site-packages\\tensorflow\\python\\framework\\dtypes.py:516: FutureWarning: Passing (type, 1) or '1type' as a synonym of type is deprecated; in a future version of numpy, it will be understood as (type, (1,)) / '(1,)type'.\n",
      "  _np_qint8 = np.dtype([(\"qint8\", np.int8, 1)])\n",
      "E:\\Programme\\anaconda\\envs\\PythonGPU\\lib\\site-packages\\tensorflow\\python\\framework\\dtypes.py:517: FutureWarning: Passing (type, 1) or '1type' as a synonym of type is deprecated; in a future version of numpy, it will be understood as (type, (1,)) / '(1,)type'.\n",
      "  _np_quint8 = np.dtype([(\"quint8\", np.uint8, 1)])\n",
      "E:\\Programme\\anaconda\\envs\\PythonGPU\\lib\\site-packages\\tensorflow\\python\\framework\\dtypes.py:518: FutureWarning: Passing (type, 1) or '1type' as a synonym of type is deprecated; in a future version of numpy, it will be understood as (type, (1,)) / '(1,)type'.\n",
      "  _np_qint16 = np.dtype([(\"qint16\", np.int16, 1)])\n",
      "E:\\Programme\\anaconda\\envs\\PythonGPU\\lib\\site-packages\\tensorflow\\python\\framework\\dtypes.py:519: FutureWarning: Passing (type, 1) or '1type' as a synonym of type is deprecated; in a future version of numpy, it will be understood as (type, (1,)) / '(1,)type'.\n",
      "  _np_quint16 = np.dtype([(\"quint16\", np.uint16, 1)])\n",
      "E:\\Programme\\anaconda\\envs\\PythonGPU\\lib\\site-packages\\tensorflow\\python\\framework\\dtypes.py:520: FutureWarning: Passing (type, 1) or '1type' as a synonym of type is deprecated; in a future version of numpy, it will be understood as (type, (1,)) / '(1,)type'.\n",
      "  _np_qint32 = np.dtype([(\"qint32\", np.int32, 1)])\n",
      "E:\\Programme\\anaconda\\envs\\PythonGPU\\lib\\site-packages\\tensorflow\\python\\framework\\dtypes.py:525: FutureWarning: Passing (type, 1) or '1type' as a synonym of type is deprecated; in a future version of numpy, it will be understood as (type, (1,)) / '(1,)type'.\n",
      "  np_resource = np.dtype([(\"resource\", np.ubyte, 1)])\n",
      "E:\\Programme\\anaconda\\envs\\PythonGPU\\lib\\site-packages\\tensorboard\\compat\\tensorflow_stub\\dtypes.py:541: FutureWarning: Passing (type, 1) or '1type' as a synonym of type is deprecated; in a future version of numpy, it will be understood as (type, (1,)) / '(1,)type'.\n",
      "  _np_qint8 = np.dtype([(\"qint8\", np.int8, 1)])\n",
      "E:\\Programme\\anaconda\\envs\\PythonGPU\\lib\\site-packages\\tensorboard\\compat\\tensorflow_stub\\dtypes.py:542: FutureWarning: Passing (type, 1) or '1type' as a synonym of type is deprecated; in a future version of numpy, it will be understood as (type, (1,)) / '(1,)type'.\n",
      "  _np_quint8 = np.dtype([(\"quint8\", np.uint8, 1)])\n",
      "E:\\Programme\\anaconda\\envs\\PythonGPU\\lib\\site-packages\\tensorboard\\compat\\tensorflow_stub\\dtypes.py:543: FutureWarning: Passing (type, 1) or '1type' as a synonym of type is deprecated; in a future version of numpy, it will be understood as (type, (1,)) / '(1,)type'.\n",
      "  _np_qint16 = np.dtype([(\"qint16\", np.int16, 1)])\n",
      "E:\\Programme\\anaconda\\envs\\PythonGPU\\lib\\site-packages\\tensorboard\\compat\\tensorflow_stub\\dtypes.py:544: FutureWarning: Passing (type, 1) or '1type' as a synonym of type is deprecated; in a future version of numpy, it will be understood as (type, (1,)) / '(1,)type'.\n",
      "  _np_quint16 = np.dtype([(\"quint16\", np.uint16, 1)])\n",
      "E:\\Programme\\anaconda\\envs\\PythonGPU\\lib\\site-packages\\tensorboard\\compat\\tensorflow_stub\\dtypes.py:545: FutureWarning: Passing (type, 1) or '1type' as a synonym of type is deprecated; in a future version of numpy, it will be understood as (type, (1,)) / '(1,)type'.\n",
      "  _np_qint32 = np.dtype([(\"qint32\", np.int32, 1)])\n",
      "E:\\Programme\\anaconda\\envs\\PythonGPU\\lib\\site-packages\\tensorboard\\compat\\tensorflow_stub\\dtypes.py:550: FutureWarning: Passing (type, 1) or '1type' as a synonym of type is deprecated; in a future version of numpy, it will be understood as (type, (1,)) / '(1,)type'.\n",
      "  np_resource = np.dtype([(\"resource\", np.ubyte, 1)])\n",
      "Using TensorFlow backend.\n"
     ]
    }
   ],
   "source": [
    "import tensorflow as tf\n",
    "from keras.models import Model\n",
    "from keras.utils import np_utils\n",
    "from keras.layers import Dense, Dropout, Activation, Conv2D, Flatten, MaxPooling2D, Input\n",
    "import matplotlib.pyplot as plt\n",
    "from keras.callbacks import TensorBoard\n",
    "from sklearn.model_selection import train_test_split\n",
    "import numpy as np\n",
    "import time\n",
    "import keras\n",
    "from keras.models import Sequential\n",
    "%load_ext tensorboard\n",
    "import csv\n",
    "import PIL\n",
    "import pathlib\n",
    "from PIL import Image\n",
    "from pathlib import Path\n",
    "from keras.preprocessing import image\n"
   ]
  },
  {
   "cell_type": "code",
   "execution_count": 2,
   "metadata": {},
   "outputs": [],
   "source": [
    "#X_train= np.load('train_data.npy')\n",
    "#y_train= np.load('train_labels.npy')\n",
    "#X_test= np.load('test_data.npy')\n",
    "#y_test= np.load('test_labels.npy')"
   ]
  },
  {
   "cell_type": "code",
   "execution_count": 3,
   "metadata": {},
   "outputs": [],
   "source": [
    "# split test set into real test set and small validation set\n",
    "#X_train, X_val, y_train, y_val = train_test_split(X_train, y_train, test_size=0.08, random_state=10)"
   ]
  },
  {
   "cell_type": "code",
   "execution_count": null,
   "metadata": {},
   "outputs": [],
   "source": [
    "save_folder = \"pixel_attack\"\n"
   ]
  },
  {
   "cell_type": "code",
   "execution_count": 29,
   "metadata": {},
   "outputs": [],
   "source": [
    "NAME = \"CNN_pixel_attack\"\n",
    "\n",
    "tensorboard = TensorBoard(log_dir='logs/{}'.format(NAME))"
   ]
  },
  {
   "cell_type": "code",
   "execution_count": 30,
   "metadata": {},
   "outputs": [],
   "source": [
    "path = 'Optimization Results/'+NAME\n",
    "model = tf.keras.models.load_model(path)\n",
    "#model.compile(loss='categorical_crossentropy', optimizer='RMSprop', metrics=['accuracy'])"
   ]
  },
  {
   "cell_type": "code",
   "execution_count": 31,
   "metadata": {},
   "outputs": [
    {
     "data": {
      "text/plain": [
       "[(None, 48, 48, 3)]"
      ]
     },
     "execution_count": 31,
     "metadata": {},
     "output_type": "execute_result"
    }
   ],
   "source": [
    "model.layers[0].input_shape "
   ]
  },
  {
   "cell_type": "code",
   "execution_count": 91,
   "metadata": {},
   "outputs": [
    {
     "name": "stdout",
     "output_type": "stream",
     "text": [
      "(48, 48, 3)\n",
      "4\n"
     ]
    },
    {
     "data": {
      "image/png": "[encoded data removed]",
      "text/plain": [
       "<Figure size 432x288 with 1 Axes>"
      ]
     },
     "metadata": {
      "needs_background": "light"
     },
     "output_type": "display_data"
    }
   ],
   "source": [
    "image_path=\"Training/00004/00002_00006.ppm\"\n",
    "\n",
    "\n",
    "img = image.load_img(image_path, target_size=(48, 48))\n",
    "\n",
    "im_arr = np.array(img)\n",
    "im_arr2=np.ones((1,48,48,3))\n",
    "print(im_arr.shape)\n",
    "plt.imshow(im_arr)\n",
    "results=np.zeros(48*48)\n",
    "im_arr2[0][:] = im_arr[:]\n",
    "y_prob = model.predict(im_arr2) \n",
    "y_classes = y_prob.argmax(axis=-1)\n",
    "print(y_classes[0])\n",
    "\n",
    "for j in range (0,48):\n",
    "    for k in range (0,48):\n",
    "        im_arr2[0][:] = im_arr[:]\n",
    "        #print(im_arr2.shape)\n",
    "        im_arr2[0][j,k,0]=0\n",
    "        im_arr2[0][j,k,1]=0\n",
    "        im_arr2[0][j,k,2]=0\n",
    "        #print(im_arr2.shape)\n",
    "\n",
    "        \n",
    "        im_arr = np.expand_dims(im_arr2, axis=0)\n",
    "\n",
    "        y_prob = model.predict(im_arr2) \n",
    "        y_classes = y_prob.argmax(axis=-1)\n",
    "        #print(y_classes)\n",
    "        \n",
    "        results[48*j + k]= y_classes\n",
    "        #if not y_classes == np.int64(2):\n",
    "            #print('Speichere')\n",
    "        \n",
    "        "
   ]
  },
  {
   "cell_type": "code",
   "execution_count": 95,
   "metadata": {},
   "outputs": [
    {
     "name": "stdout",
     "output_type": "stream",
     "text": [
      "Different Classes: 22\n",
      "Histrogram, the fist array are how often ths clas was predicted:\n",
      "(array([  76,   50,  187, 1008,   76,    0,  126,    3,  158,   47,    0,\n",
      "        209,  191,    0,    0,   47,    4,   35,   15,    0,    0,    0,\n",
      "         12,    0,    3,    2,    0,    0,    0,   17,    0,    0,    0,\n",
      "          0,   25,    0,    0,    8,    0,    5,    0], dtype=int64), array([ 0.        ,  1.02439024,  2.04878049,  3.07317073,  4.09756098,\n",
      "        5.12195122,  6.14634146,  7.17073171,  8.19512195,  9.2195122 ,\n",
      "       10.24390244, 11.26829268, 12.29268293, 13.31707317, 14.34146341,\n",
      "       15.36585366, 16.3902439 , 17.41463415, 18.43902439, 19.46341463,\n",
      "       20.48780488, 21.51219512, 22.53658537, 23.56097561, 24.58536585,\n",
      "       25.6097561 , 26.63414634, 27.65853659, 28.68292683, 29.70731707,\n",
      "       30.73170732, 31.75609756, 32.7804878 , 33.80487805, 34.82926829,\n",
      "       35.85365854, 36.87804878, 37.90243902, 38.92682927, 39.95121951,\n",
      "       40.97560976, 42.        ]))\n"
     ]
    }
   ],
   "source": [
    "\n",
    "results=np.int64(results)\n",
    "hist = np.histogram(results,bins=41,range=(0,42))\n",
    "\n",
    "\n",
    "out3=set(results)\n",
    "\n",
    "print(\"Different Classes: \" + str(len(out3)))\n",
    "print(\"Histrogram, the fist array are how often ths clas was predicted:\")\n",
    "print(hist)"
   ]
  }
 ],
 "metadata": {
  "kernelspec": {
   "display_name": "Python 3",
   "language": "python",
   "name": "python3"
  },
  "language_info": {
   "codemirror_mode": {
    "name": "ipython",
    "version": 3
   },
   "file_extension": ".py",
   "mimetype": "text/x-python",
   "name": "python",
   "nbconvert_exporter": "python",
   "pygments_lexer": "ipython3",
   "version": "3.7.7"
  }
 },
 "nbformat": 4,
 "nbformat_minor": 4
}
