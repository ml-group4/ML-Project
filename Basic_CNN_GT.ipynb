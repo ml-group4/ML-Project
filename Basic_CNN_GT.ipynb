{
 "cells": [
  {
   "cell_type": "code",
   "execution_count": 1,
   "metadata": {},
   "outputs": [
    {
     "name": "stderr",
     "output_type": "stream",
     "text": [
      "Using TensorFlow backend.\n"
     ]
    }
   ],
   "source": [
    "import tensorflow as tf\n",
    "from keras.models import Model\n",
    "from keras.layers import Dense, Dropout, Activation, Conv2D, Flatten, MaxPooling2D, Input\n",
    "import matplotlib.pyplot as plt\n",
    "from keras.callbacks import TensorBoard\n",
    "\n",
    "import time\n",
    "import keras\n",
    "from keras.models import Sequential"
   ]
  },
  {
   "cell_type": "code",
   "execution_count": 2,
   "metadata": {},
   "outputs": [],
   "source": [
    "import numpy as np\n",
    "X = np.load('features.npy')/255\n",
    "y = np.load('labels.npy')"
   ]
  },
  {
   "cell_type": "code",
   "execution_count": 91,
   "metadata": {},
   "outputs": [],
   "source": [
    "inputs = Input(shape=(32,32, 3))\n",
    "\n",
    "x = Conv2D(16, (1,1), padding=\"same\", activation='relu')(inputs)\n",
    "x = MaxPooling2D(pool_size=(2,2))(x)\n",
    "block_1_output = Dropout(0)(x)\n",
    "\n",
    "\n",
    "x = Conv2D(96, (1,1), padding=\"same\", activation='relu')(block_1_output)\n",
    "x = MaxPooling2D(pool_size=(2,2))(x)\n",
    "block_2_output = Dropout(0)(x)\n",
    "\n",
    "#x = Conv2D(64, (1,1), padding=\"same\", activation='relu')(block_2_output)\n",
    "#x = MaxPooling2D(pool_size=(2,2))(x)\n",
    "#block_3_output = Dropout(0)(x)\n",
    "\n",
    "x = Flatten()(block_2_output)\n",
    "x = Dense(256, activation='relu')(x)\n",
    "\n",
    "\n",
    "prediction = Dense(43, activation='softmax')(x)\n",
    "\n",
    "model_1 = Model(inputs=inputs, outputs=prediction)\n"
   ]
  },
  {
   "cell_type": "code",
   "execution_count": 92,
   "metadata": {},
   "outputs": [],
   "source": [
    "model_1.compile(loss='categorical_crossentropy', optimizer='adam', metrics=['accuracy'])"
   ]
  },
  {
   "cell_type": "code",
   "execution_count": 93,
   "metadata": {},
   "outputs": [
    {
     "name": "stdout",
     "output_type": "stream",
     "text": [
      "Train on 27446 samples, validate on 11763 samples\n",
      "Epoch 1/12\n",
      "27446/27446 [==============================] - 6s 212us/step - loss: 1.7444 - accuracy: 0.4858 - val_loss: 1.0771 - val_accuracy: 0.6431\n",
      "Epoch 2/12\n",
      "27446/27446 [==============================] - 6s 213us/step - loss: 0.8470 - accuracy: 0.7254 - val_loss: 0.7509 - val_accuracy: 0.7501\n",
      "Epoch 3/12\n",
      "27446/27446 [==============================] - 6s 208us/step - loss: 0.5654 - accuracy: 0.8137 - val_loss: 0.5425 - val_accuracy: 0.8199\n",
      "Epoch 4/12\n",
      "27446/27446 [==============================] - 6s 211us/step - loss: 0.4246 - accuracy: 0.8611 - val_loss: 0.4388 - val_accuracy: 0.8532\n",
      "Epoch 5/12\n",
      "27446/27446 [==============================] - 6s 211us/step - loss: 0.3322 - accuracy: 0.8918 - val_loss: 0.3956 - val_accuracy: 0.8676\n",
      "Epoch 6/12\n",
      "27446/27446 [==============================] - 6s 211us/step - loss: 0.2725 - accuracy: 0.9120 - val_loss: 0.3235 - val_accuracy: 0.8947\n",
      "Epoch 7/12\n",
      "27446/27446 [==============================] - 6s 209us/step - loss: 0.2339 - accuracy: 0.9230 - val_loss: 0.3110 - val_accuracy: 0.8973\n",
      "Epoch 8/12\n",
      "27446/27446 [==============================] - 6s 210us/step - loss: 0.1962 - accuracy: 0.9362 - val_loss: 0.2518 - val_accuracy: 0.9184\n",
      "Epoch 9/12\n",
      "27446/27446 [==============================] - 6s 212us/step - loss: 0.1782 - accuracy: 0.9415 - val_loss: 0.2426 - val_accuracy: 0.9231\n",
      "Epoch 10/12\n",
      "27446/27446 [==============================] - 6s 208us/step - loss: 0.1478 - accuracy: 0.9525 - val_loss: 0.2428 - val_accuracy: 0.9251\n",
      "Epoch 11/12\n",
      "27446/27446 [==============================] - 6s 212us/step - loss: 0.1339 - accuracy: 0.9554 - val_loss: 0.2383 - val_accuracy: 0.9243\n",
      "Epoch 12/12\n",
      "27446/27446 [==============================] - 6s 211us/step - loss: 0.1275 - accuracy: 0.9587 - val_loss: 0.2117 - val_accuracy: 0.9319\n"
     ]
    },
    {
     "data": {
      "text/plain": [
       "<keras.callbacks.callbacks.History at 0x7f53b35f1bd0>"
      ]
     },
     "execution_count": 93,
     "metadata": {},
     "output_type": "execute_result"
    }
   ],
   "source": [
    "model_1.fit(X, y, batch_size=32, epochs=12, validation_split=0.3)#, callbacks=[tensorboard])"
   ]
  },
  {
   "cell_type": "code",
   "execution_count": null,
   "metadata": {},
   "outputs": [],
   "source": []
  },
  {
   "cell_type": "code",
   "execution_count": null,
   "metadata": {},
   "outputs": [],
   "source": []
  }
 ],
 "metadata": {
  "kernelspec": {
   "display_name": "Python 3",
   "language": "python",
   "name": "python3"
  },
  "language_info": {
   "codemirror_mode": {
    "name": "ipython",
    "version": 3
   },
   "file_extension": ".py",
   "mimetype": "text/x-python",
   "name": "python",
   "nbconvert_exporter": "python",
   "pygments_lexer": "ipython3",
   "version": "3.7.4"
  }
 },
 "nbformat": 4,
 "nbformat_minor": 2
}
