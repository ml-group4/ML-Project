{
 "cells": [
  {
   "cell_type": "code",
   "execution_count": 1,
   "metadata": {},
   "outputs": [
    {
     "name": "stderr",
     "output_type": "stream",
     "text": [
      "Using TensorFlow backend.\n"
     ]
    }
   ],
   "source": [
    "import tensorflow as tf\n",
    "from keras.models import Model\n",
    "from keras.layers import Dense, Dropout, Activation, Conv2D, Flatten, MaxPooling2D, Input\n",
    "import matplotlib.pyplot as plt\n",
    "from keras.callbacks import TensorBoard\n",
    "\n",
    "import time\n",
    "import keras\n",
    "from keras.models import Sequential"
   ]
  },
  {
   "cell_type": "code",
   "execution_count": 2,
   "metadata": {},
   "outputs": [],
   "source": [
    "import numpy as np\n",
    "X = np.load('features.npy')/255\n",
    "y = np.load('labels.npy')"
   ]
  },
  {
   "cell_type": "code",
   "execution_count": 3,
   "metadata": {},
   "outputs": [],
   "source": [
    "inputs = Input(shape=(32,32, 3))\n",
    "\n",
    "x = Conv2D(16, (3,3), padding=\"same\", activation='relu')(inputs)\n",
    "x = MaxPooling2D(pool_size=(2,2))(x)\n",
    "block_1_output = Dropout(0)(x)\n",
    "\n",
    "\n",
    "x = Conv2D(96, (3,3), padding=\"same\", activation='relu')(block_1_output)\n",
    "x = MaxPooling2D(pool_size=(2,2))(x)\n",
    "block_2_output = Dropout(0)(x)\n",
    "\n",
    "#x = Conv2D(128, (3,3), padding=\"same\", activation='relu')(block_2_output)\n",
    "#x = MaxPooling2D(pool_size=(2,2))(x)\n",
    "#block_3_output = Dropout(0)(x)\n",
    "\n",
    "x = Flatten()(block_2_output)\n",
    "x = Dense(256, activation='relu')(x)\n",
    "\n",
    "prediction = Dense(43, activation='softmax')(x)\n",
    "\n",
    "model_1 = Model(inputs=inputs, outputs=prediction)\n"
   ]
  },
  {
   "cell_type": "code",
   "execution_count": 4,
   "metadata": {},
   "outputs": [],
   "source": [
    "model_1.compile(loss='categorical_crossentropy', optimizer='RMSprop', metrics=['accuracy'])"
   ]
  },
  {
   "cell_type": "code",
   "execution_count": 5,
   "metadata": {
    "scrolled": true
   },
   "outputs": [
    {
     "name": "stdout",
     "output_type": "stream",
     "text": [
      "Train on 27446 samples, validate on 11763 samples\n",
      "Epoch 1/30\n",
      "27446/27446 [==============================] - 4s 142us/step - loss: 1.7694 - accuracy: 0.5183 - val_loss: 0.9875 - val_accuracy: 0.7165\n",
      "Epoch 2/30\n",
      "27446/27446 [==============================] - 2s 86us/step - loss: 0.4710 - accuracy: 0.8683 - val_loss: 0.3334 - val_accuracy: 0.8843\n",
      "Epoch 3/30\n",
      "27446/27446 [==============================] - 2s 88us/step - loss: 0.1892 - accuracy: 0.9496 - val_loss: 0.1514 - val_accuracy: 0.9565\n",
      "Epoch 4/30\n",
      "27446/27446 [==============================] - 2s 85us/step - loss: 0.1038 - accuracy: 0.9738 - val_loss: 0.1554 - val_accuracy: 0.9526\n",
      "Epoch 5/30\n",
      "27446/27446 [==============================] - 2s 86us/step - loss: 0.0614 - accuracy: 0.9830 - val_loss: 0.2006 - val_accuracy: 0.9506\n",
      "Epoch 6/30\n",
      "27446/27446 [==============================] - 2s 87us/step - loss: 0.0406 - accuracy: 0.9895 - val_loss: 0.0429 - val_accuracy: 0.9889\n",
      "Epoch 7/30\n",
      "27446/27446 [==============================] - 2s 91us/step - loss: 0.0273 - accuracy: 0.9929 - val_loss: 0.0830 - val_accuracy: 0.9770\n",
      "Epoch 8/30\n",
      "27446/27446 [==============================] - 2s 86us/step - loss: 0.0206 - accuracy: 0.9945 - val_loss: 0.1237 - val_accuracy: 0.9694\n",
      "Epoch 9/30\n",
      "27446/27446 [==============================] - 2s 86us/step - loss: 0.0176 - accuracy: 0.9957 - val_loss: 0.0476 - val_accuracy: 0.9889\n",
      "Epoch 10/30\n",
      "27446/27446 [==============================] - 2s 86us/step - loss: 0.0100 - accuracy: 0.9976 - val_loss: 0.2458 - val_accuracy: 0.9583\n",
      "Epoch 11/30\n",
      "27446/27446 [==============================] - 2s 87us/step - loss: 0.0122 - accuracy: 0.9974 - val_loss: 0.0286 - val_accuracy: 0.9940\n",
      "Epoch 12/30\n",
      "27446/27446 [==============================] - 2s 86us/step - loss: 0.0089 - accuracy: 0.9981 - val_loss: 0.0301 - val_accuracy: 0.9935\n",
      "Epoch 13/30\n",
      "27446/27446 [==============================] - 2s 86us/step - loss: 0.0067 - accuracy: 0.9984 - val_loss: 0.0319 - val_accuracy: 0.9934\n",
      "Epoch 14/30\n",
      "27446/27446 [==============================] - 2s 86us/step - loss: 0.0057 - accuracy: 0.9984 - val_loss: 0.0814 - val_accuracy: 0.9816\n",
      "Epoch 15/30\n",
      "27446/27446 [==============================] - 2s 86us/step - loss: 0.0060 - accuracy: 0.9987 - val_loss: 0.0380 - val_accuracy: 0.9930\n",
      "Epoch 16/30\n",
      "27446/27446 [==============================] - 2s 86us/step - loss: 0.0054 - accuracy: 0.9985 - val_loss: 0.0364 - val_accuracy: 0.9920\n",
      "Epoch 17/30\n",
      "27446/27446 [==============================] - 2s 87us/step - loss: 0.0043 - accuracy: 0.9988 - val_loss: 0.0464 - val_accuracy: 0.9910\n",
      "Epoch 18/30\n",
      "27446/27446 [==============================] - 2s 87us/step - loss: 0.0041 - accuracy: 0.9991 - val_loss: 0.0349 - val_accuracy: 0.9936\n",
      "Epoch 19/30\n",
      "27446/27446 [==============================] - 2s 86us/step - loss: 0.0042 - accuracy: 0.9991 - val_loss: 0.0414 - val_accuracy: 0.9912\n",
      "Epoch 20/30\n",
      "27446/27446 [==============================] - 2s 87us/step - loss: 0.0028 - accuracy: 0.9993 - val_loss: 0.0477 - val_accuracy: 0.9917\n",
      "Epoch 21/30\n",
      "27446/27446 [==============================] - 2s 86us/step - loss: 0.0029 - accuracy: 0.9993 - val_loss: 0.0402 - val_accuracy: 0.9935\n",
      "Epoch 22/30\n",
      "27446/27446 [==============================] - 2s 87us/step - loss: 0.0028 - accuracy: 0.9995 - val_loss: 0.0489 - val_accuracy: 0.9920\n",
      "Epoch 23/30\n",
      "27446/27446 [==============================] - 2s 86us/step - loss: 0.0020 - accuracy: 0.9995 - val_loss: 0.0403 - val_accuracy: 0.9944\n",
      "Epoch 24/30\n",
      "27446/27446 [==============================] - 2s 87us/step - loss: 0.0019 - accuracy: 0.9995 - val_loss: 0.0376 - val_accuracy: 0.9940\n",
      "Epoch 25/30\n",
      "27446/27446 [==============================] - 2s 87us/step - loss: 0.0028 - accuracy: 0.9994 - val_loss: 0.0361 - val_accuracy: 0.9952\n",
      "Epoch 26/30\n",
      "27446/27446 [==============================] - 2s 87us/step - loss: 0.0032 - accuracy: 0.9995 - val_loss: 0.0434 - val_accuracy: 0.9929\n",
      "Epoch 27/30\n",
      "27446/27446 [==============================] - 2s 87us/step - loss: 0.0025 - accuracy: 0.9996 - val_loss: 0.0422 - val_accuracy: 0.9929\n",
      "Epoch 28/30\n",
      "27446/27446 [==============================] - 2s 87us/step - loss: 0.0020 - accuracy: 0.9996 - val_loss: 0.0606 - val_accuracy: 0.9912\n",
      "Epoch 29/30\n",
      "27446/27446 [==============================] - 2s 87us/step - loss: 0.0031 - accuracy: 0.9994 - val_loss: 0.0529 - val_accuracy: 0.9925\n",
      "Epoch 30/30\n",
      "27446/27446 [==============================] - 2s 87us/step - loss: 0.0027 - accuracy: 0.9992 - val_loss: 0.0769 - val_accuracy: 0.9877\n"
     ]
    },
    {
     "data": {
      "text/plain": [
       "<keras.callbacks.callbacks.History at 0x7f60006c3ad0>"
      ]
     },
     "execution_count": 5,
     "metadata": {},
     "output_type": "execute_result"
    }
   ],
   "source": [
    "model_1.fit(X, y, batch_size=128, epochs=30, validation_split=0.3)#, callbacks=[tensorboard])"
   ]
  },
  {
   "cell_type": "code",
   "execution_count": null,
   "metadata": {},
   "outputs": [],
   "source": []
  },
  {
   "cell_type": "code",
   "execution_count": null,
   "metadata": {},
   "outputs": [],
   "source": []
  }
 ],
 "metadata": {
  "kernelspec": {
   "display_name": "Python 3",
   "language": "python",
   "name": "python3"
  },
  "language_info": {
   "codemirror_mode": {
    "name": "ipython",
    "version": 3
   },
   "file_extension": ".py",
   "mimetype": "text/x-python",
   "name": "python",
   "nbconvert_exporter": "python",
   "pygments_lexer": "ipython3",
   "version": "3.7.4"
  }
 },
 "nbformat": 4,
 "nbformat_minor": 2
}
