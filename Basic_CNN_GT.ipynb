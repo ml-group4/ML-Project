{
 "cells": [
  {
   "cell_type": "code",
   "execution_count": 1,
   "metadata": {},
   "outputs": [
    {
     "name": "stderr",
     "output_type": "stream",
     "text": [
      "Using TensorFlow backend.\n"
     ]
    }
   ],
   "source": [
    "import tensorflow as tf\n",
    "from keras.models import Model\n",
    "from keras.layers import Dense, Dropout, Activation, Conv2D, Flatten, MaxPooling2D, Input\n",
    "import matplotlib.pyplot as plt\n",
    "from keras.callbacks import TensorBoard\n",
    "from sklearn.model_selection import train_test_split\n",
    "import numpy as np\n",
    "import time\n",
    "import keras\n",
    "from keras.models import Sequential"
   ]
  },
  {
   "cell_type": "code",
   "execution_count": null,
   "metadata": {},
   "outputs": [],
   "source": [
    "#X = np.load('features_1000_32.npy')/255\n",
    "#y = np.load('labels_1000_32.npy')\n",
    "#X = np.load(\"aug_features_32x32.npy\")/255\n",
    "#y = np.load(\"aug_labels_32x32.npy\")\n",
    "\n",
    "#X = np.load('features_std.npy')/255\n",
    "#y = np.load('labels_std.npy')\n",
    "\n",
    "#X = np.load('features_png.npy')\n",
    "#y = np.load('labels_png.npy')\n"
   ]
  },
  {
   "cell_type": "code",
   "execution_count": 2,
   "metadata": {},
   "outputs": [
    {
     "name": "stdout",
     "output_type": "stream",
     "text": [
      "(39209, 48, 48, 3)\n",
      "(39209, 43)\n",
      "(12630, 48, 48, 3)\n",
      "(12630, 43)\n"
     ]
    }
   ],
   "source": [
    "X = np.load('features_std.npy')/255\n",
    "y = np.load('labels_std.npy')\n",
    "print(X.shape)\n",
    "print(y.shape)\n",
    "X_test = np.load('test_features_.npy')/255\n",
    "y_test = np.load('test_labels_.npy')\n",
    "print(X_test.shape)\n",
    "print(y_test.shape)"
   ]
  },
  {
   "cell_type": "code",
   "execution_count": 3,
   "metadata": {},
   "outputs": [
    {
     "name": "stdout",
     "output_type": "stream",
     "text": [
      "(51839, 48, 48, 3)\n",
      "(51839, 43)\n"
     ]
    }
   ],
   "source": [
    "# concatenate train and test set\n",
    "print\n",
    "X = np.concatenate((X,X_test), axis=0)\n",
    "print(X.shape)\n",
    "y = np.concatenate((y,y_test), axis=0)\n",
    "print(y.shape)\n"
   ]
  },
  {
   "cell_type": "code",
   "execution_count": 4,
   "metadata": {},
   "outputs": [],
   "source": [
    "# first split \n",
    "X_train, X_test, y_train, y_test = train_test_split(X, y, test_size=0.23, random_state=22)\n",
    "X = 0\n",
    "y = 0"
   ]
  },
  {
   "cell_type": "code",
   "execution_count": 5,
   "metadata": {},
   "outputs": [],
   "source": [
    "np.save('train_data', X_train)\n",
    "np.save('train_labels', y_train)\n",
    "np.save('test_data', X_test)\n",
    "np.save('test_labels', y_test)"
   ]
  },
  {
   "cell_type": "code",
   "execution_count": null,
   "metadata": {},
   "outputs": [],
   "source": [
    "print(X_test.shape)"
   ]
  },
  {
   "cell_type": "code",
   "execution_count": 6,
   "metadata": {},
   "outputs": [],
   "source": [
    "# split test set into real test set and small validation set\n",
    "X_train, X_val, y_train, y_val = train_test_split(X_train, y_train, test_size=0.08, random_state=10)"
   ]
  },
  {
   "cell_type": "code",
   "execution_count": null,
   "metadata": {},
   "outputs": [],
   "source": []
  },
  {
   "cell_type": "code",
   "execution_count": 16,
   "metadata": {},
   "outputs": [],
   "source": [
    "#np.save('train_data', X_train)\n",
    "#np.save('train_labels', y_train)\n",
    "np.save('val_data', X_val)\n",
    "np.save('val_labels', y_val)\n",
    "#np.save('test_data', X_test)\n",
    "#np.save('test_labels', y_test)"
   ]
  },
  {
   "cell_type": "code",
   "execution_count": 174,
   "metadata": {},
   "outputs": [],
   "source": [
    "NAME = \"CNN_16_96_128_Dense128_relu_RMSprop_categorical_crossentropy_padding_same\"\n",
    "\n",
    "tensorboard = TensorBoard(log_dir='logs/{}'.format(NAME))"
   ]
  },
  {
   "cell_type": "code",
   "execution_count": 175,
   "metadata": {},
   "outputs": [],
   "source": [
    "inputs = Input(shape=(X_train.shape[1],X_train.shape[2], 3))\n",
    "\n",
    "x = Conv2D(32, (3,3), padding=\"same\", activation='relu')(inputs)\n",
    "x = MaxPooling2D(pool_size=(2,2))(x)\n",
    "block_1_output = Dropout(0)(x)\n",
    "\n",
    "\n",
    "x = Conv2D(96, (3,3), padding=\"same\", activation='relu')(block_1_output)\n",
    "x = MaxPooling2D(pool_size=(2,2))(x)\n",
    "block_2_output = Dropout(0)(x)\n",
    "\n",
    "x = Conv2D(128, (3,3), padding=\"same\", activation='relu')(block_2_output)\n",
    "x = MaxPooling2D(pool_size=(2,2))(x)\n",
    "block_3_output = Dropout(0)(x)\n",
    "\n",
    "#x = Conv2D(256, (3,3), padding=\"same\", activation='relu')(block_3_output)\n",
    "#x = MaxPooling2D(pool_size=(2,2))(x)\n",
    "#block_4_output = Dropout(0)(x)\n",
    "\n",
    "x = Flatten()(block_3_output)\n",
    "x = Dense(128, activation='relu')(x)\n",
    "prediction = Dense(y_train.shape[1], activation='softmax')(x)\n",
    "#prediction = Dense(17, activation='softmax')(x)\n",
    "model_1 = Model(inputs=inputs, outputs=prediction)\n"
   ]
  },
  {
   "cell_type": "code",
   "execution_count": 176,
   "metadata": {},
   "outputs": [],
   "source": [
    "model_1.compile(loss='categorical_crossentropy', optimizer='RMSprop', metrics=['accuracy'])"
   ]
  },
  {
   "cell_type": "code",
   "execution_count": 177,
   "metadata": {
    "scrolled": false
   },
   "outputs": [
    {
     "name": "stdout",
     "output_type": "stream",
     "text": [
      "Train on 36722 samples, validate on 3194 samples\n",
      "Epoch 1/10\n",
      "36722/36722 [==============================] - 8s 212us/step - loss: 1.2811 - accuracy: 0.6361 - val_loss: 0.3384 - val_accuracy: 0.9054\n",
      "Epoch 2/10\n",
      "36722/36722 [==============================] - 8s 213us/step - loss: 0.1277 - accuracy: 0.9647 - val_loss: 0.0688 - val_accuracy: 0.9818\n",
      "Epoch 3/10\n",
      "36722/36722 [==============================] - 8s 206us/step - loss: 0.0431 - accuracy: 0.9877 - val_loss: 0.0498 - val_accuracy: 0.9875\n",
      "Epoch 4/10\n",
      "36722/36722 [==============================] - 8s 207us/step - loss: 0.0233 - accuracy: 0.9934 - val_loss: 0.0417 - val_accuracy: 0.9900\n",
      "Epoch 5/10\n",
      "36722/36722 [==============================] - 8s 207us/step - loss: 0.0176 - accuracy: 0.9956 - val_loss: 0.0207 - val_accuracy: 0.9953\n",
      "Epoch 6/10\n",
      "36722/36722 [==============================] - 8s 209us/step - loss: 0.0120 - accuracy: 0.9969 - val_loss: 0.0284 - val_accuracy: 0.9941\n",
      "Epoch 7/10\n",
      "36722/36722 [==============================] - 8s 206us/step - loss: 0.0097 - accuracy: 0.9975 - val_loss: 0.0385 - val_accuracy: 0.9941\n",
      "Epoch 8/10\n",
      "36722/36722 [==============================] - 8s 208us/step - loss: 0.0089 - accuracy: 0.9978 - val_loss: 0.0289 - val_accuracy: 0.9959\n",
      "Epoch 9/10\n",
      "36722/36722 [==============================] - 8s 206us/step - loss: 0.0085 - accuracy: 0.9975 - val_loss: 0.0327 - val_accuracy: 0.9947\n",
      "Epoch 10/10\n",
      "36722/36722 [==============================] - 8s 213us/step - loss: 0.0081 - accuracy: 0.9983 - val_loss: 0.0258 - val_accuracy: 0.9962\n"
     ]
    }
   ],
   "source": [
    "status = model_1.fit(X_train, y_train, batch_size=64, epochs=10, validation_data=(X_val,y_val), callbacks=[tensorboard])\n",
    "\n",
    "\n",
    "path = 'Optimization Results/'+NAME\n",
    "\n",
    "model_1.save(path)\n",
    "results = np.zeros((3,10))\n",
    "results[0::] = (np.array(status.epoch)+1)\n",
    "results[1::] = np.array(status.history['val_loss'])\n",
    "results[2::] = np.array(status.history['val_accuracy'])\n",
    "np.save(path, results)"
   ]
  },
  {
   "cell_type": "code",
   "execution_count": 179,
   "metadata": {
    "scrolled": true
   },
   "outputs": [
    {
     "name": "stdout",
     "output_type": "stream",
     "text": [
      "The tensorboard extension is already loaded. To reload it, use:\n",
      "  %reload_ext tensorboard\n"
     ]
    }
   ],
   "source": [
    "%load_ext tensorboard\n"
   ]
  },
  {
   "cell_type": "code",
   "execution_count": 178,
   "metadata": {
    "scrolled": true
   },
   "outputs": [
    {
     "name": "stdout",
     "output_type": "stream",
     "text": [
      "(11923, 48, 48, 3)\n",
      "Test loss: 0.050262905623256596\n",
      "Test accuracy: 0.9929547905921936\n"
     ]
    }
   ],
   "source": [
    "score = model_1.evaluate(X_test, y_test, verbose = 0) \n",
    "print(X_test.shape)\n",
    "print('Test loss:', score[0]) \n",
    "print('Test accuracy:', score[1])"
   ]
  },
  {
   "cell_type": "code",
   "execution_count": 19,
   "metadata": {
    "scrolled": true
   },
   "outputs": [
    {
     "data": {
      "text/plain": [
       "[<matplotlib.lines.Line2D at 0x7fb4781e06d0>]"
      ]
     },
     "execution_count": 19,
     "metadata": {},
     "output_type": "execute_result"
    },
    {
     "data": {
      "image/png": "[encoded data removed]",
      "text/plain": [
       "<Figure size 432x288 with 1 Axes>"
      ]
     },
     "metadata": {
      "needs_background": "light"
     },
     "output_type": "display_data"
    }
   ],
   "source": [
    "plt.plot((np.array(status.epoch)+1).astype('uint8'), status.history['val_loss'])"
   ]
  },
  {
   "cell_type": "code",
   "execution_count": 18,
   "metadata": {},
   "outputs": [
    {
     "data": {
      "text/plain": [
       "[<matplotlib.lines.Line2D at 0x7fb4782a7f50>]"
      ]
     },
     "execution_count": 18,
     "metadata": {},
     "output_type": "execute_result"
    },
    {
     "data": {
      "image/png": "[encoded data removed]",
      "text/plain": [
       "<Figure size 432x288 with 1 Axes>"
      ]
     },
     "metadata": {
      "needs_background": "light"
     },
     "output_type": "display_data"
    }
   ],
   "source": [
    "plt.plot(np.array(status.epoch)+1, status.history['val_accuracy'])"
   ]
  },
  {
   "cell_type": "code",
   "execution_count": null,
   "metadata": {},
   "outputs": [],
   "source": []
  },
  {
   "cell_type": "code",
   "execution_count": null,
   "metadata": {},
   "outputs": [],
   "source": []
  },
  {
   "cell_type": "code",
   "execution_count": null,
   "metadata": {},
   "outputs": [],
   "source": []
  }
 ],
 "metadata": {
  "kernelspec": {
   "display_name": "Python 3",
   "language": "python",
   "name": "python3"
  },
  "language_info": {
   "codemirror_mode": {
    "name": "ipython",
    "version": 3
   },
   "file_extension": ".py",
   "mimetype": "text/x-python",
   "name": "python",
   "nbconvert_exporter": "python",
   "pygments_lexer": "ipython3",
   "version": "3.7.4"
  }
 },
 "nbformat": 4,
 "nbformat_minor": 2
}
