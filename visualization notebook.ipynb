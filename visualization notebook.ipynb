{
 "cells": [
  {
   "cell_type": "markdown",
   "metadata": {},
   "source": [
    "# Multibar plot"
   ]
  },
  {
   "cell_type": "code",
   "execution_count": null,
   "metadata": {},
   "outputs": [],
   "source": [
    "import matplotlib.pyplot as plt\n",
    "\n",
    "fig, axs = plt.subplots(nrows=1, ncols=1, figsize=(10, 4), constrained_layout=True)\n",
    "\n",
    "width = 0.4  # the width of the bars\n",
    "axs.grid(True)\n",
    "barlist = axs.bar(np.arange(0,43)-0.2,results_, width, color='tab:orange', label='Augmented training set')\n",
    "barlist2= axs.bar(np.arange(0,43)+0.2,results, width, color='tab:blue', label='Original training set')\n",
    "\n",
    "\n",
    "\n",
    "for i, bar in enumerate(barlist2):\n",
    "    if results[i] < 0.98:\n",
    "        bar.set_color('tab:red')\n",
    "\n",
    "\n",
    "axs.set_xticks(np.arange(0,43))#, rotation='vertical')\n",
    "axs.set_xlim(xmax=43,xmin=-1)\n",
    "axs.set_ylim(ymax=1.005,ymin=0.95)\n",
    "#axs.set_yticks(np.arange(0,750,75))\n",
    "\n",
    "axs.set_xlabel('Class')\n",
    "axs.set_ylabel('Accuracy')\n",
    "axs.set_title('Test accuracy per class using augmented training data')\n",
    "plt.legend()\n",
    "#plt.savefig('Class_accuracy_(freshtrained_model_trained_on_500_aug_images_per_class+orig_train).png', dpi=500)\n",
    "plt.savefig('Class_accuracy_aug_vs_orig.png', dpi=500)"
   ]
  },
  {
   "cell_type": "markdown",
   "metadata": {},
   "source": [
    "# single bar blot"
   ]
  },
  {
   "cell_type": "code",
   "execution_count": null,
   "metadata": {},
   "outputs": [],
   "source": [
    "import matplotlib.pyplot as plt\n",
    "\n",
    "fig, axs = plt.subplots(nrows=1, ncols=1, figsize=(10, 4), constrained_layout=True)\n",
    "\n",
    "width = 0.8  # the width of the bars\n",
    "axs.grid(True)\n",
    "barlist = axs.bar(np.arange(0,43),results, width)\n",
    "for i, bar in enumerate(barlist):\n",
    "    if results[i] < 0.98:\n",
    "        bar.set_color('tab:red')\n",
    "\n",
    "axs.set_xticks(np.arange(0,43))#, rotation='vertical')\n",
    "axs.set_xlim(xmax=43,xmin=-1)\n",
    "axs.set_ylim(ymax=1.005,ymin=0.92)\n",
    "#axs.set_yticks(np.arange(0,750,75))\n",
    "\n",
    "axs.set_xlabel('Class')\n",
    "axs.set_ylabel('Accuracy')\n",
    "axs.set_title('Test accuracy per class')\n",
    "#plt.savefig('Class_accuracy_(freshtrained_model_trained_on_500_aug_images_per_class+orig_train).png', dpi=500)\n",
    "plt.savefig('Class_accuracy_(noaugmention).png', dpi=500)"
   ]
  },
  {
   "cell_type": "markdown",
   "metadata": {},
   "source": [
    "# image plot"
   ]
  },
  {
   "cell_type": "code",
   "execution_count": null,
   "metadata": {},
   "outputs": [],
   "source": [
    "import matplotlib.pyplot as plt\n",
    "\n",
    "# determines shape of the plot\n",
    "fig, axs = plt.subplots(nrows=1, ncols=5, figsize=(5, 1), constrained_layout=True)\n",
    "\n",
    "axs = axs.ravel()\n",
    "\n",
    "#plt.subplots_adjust(left=0, bottom=0, right=1, top=1, wspace=0, hspace=0)\n",
    "\n",
    "axs[0].imshow(class_features[14][0].astype('uint8'))\n",
    "axs[0].set_xticks([])\n",
    "axs[0].set_yticks([])\n",
    "\n",
    "k = 1\n",
    "for X_batch, y_batch in datagen.flow(np.reshape(class_features[14][0], (1,48,48,3)), np.reshape(class_labels[0][0],(1,43)), batch_size=9):\n",
    "    axs[k].imshow(X_batch[0].astype('uint8'))\n",
    "    #axs[k].imshow(class_features[14][0].astype('uint8'))\n",
    "    axs[k].set_xticks([])\n",
    "    axs[k].set_yticks([])\n",
    "    if k == axs.shape[0]-1:\n",
    "        break\n",
    "    k += 1\n",
    "\n",
    "plt.savefig('augmentation.png', dpi=500)\n",
    "plt.show()"
   ]
  },
  {
   "cell_type": "code",
   "execution_count": null,
   "metadata": {},
   "outputs": [],
   "source": []
  }
 ],
 "metadata": {
  "kernelspec": {
   "display_name": "Python 3",
   "language": "python",
   "name": "python3"
  },
  "language_info": {
   "codemirror_mode": {
    "name": "ipython",
    "version": 3
   },
   "file_extension": ".py",
   "mimetype": "text/x-python",
   "name": "python",
   "nbconvert_exporter": "python",
   "pygments_lexer": "ipython3",
   "version": "3.7.4"
  }
 },
 "nbformat": 4,
 "nbformat_minor": 2
}
