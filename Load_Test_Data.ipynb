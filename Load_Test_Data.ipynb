{
 "cells": [
  {
   "cell_type": "code",
   "execution_count": 2,
   "metadata": {},
   "outputs": [],
   "source": [
    "import matplotlib.pyplot as plt\n",
    "import csv\n",
    "import numpy as np\n",
    "import os\n",
    "import cv2\n",
    "import random\n",
    "from PIL import Image\n"
   ]
  },
  {
   "cell_type": "code",
   "execution_count": 3,
   "metadata": {},
   "outputs": [],
   "source": [
    "def readTrafficSigns(rootpath, IMG_SIZE, classes=np.arange(0,43), target_dir='Own_test_images/', min_img_size=32):\n",
    "    '''Reads traffic sign data for German Traffic Sign Recognition Benchmark.\n",
    "\n",
    "    Arguments: path to the traffic sign data, for example './GTSRB/Training' and image size\n",
    "    Returns:   trainingdata'''\n",
    "    test_data = []\n",
    "\n",
    "    gtFile = open(rootpath + 'GT-final_test.csv') # annotations file\n",
    "    gtReader = csv.reader(gtFile, delimiter=';') # csv parser for annotations file\n",
    "    k = 0\n",
    "    file_index = 0\n",
    "    # loop over all images in current annotations file\n",
    "    for row in gtReader:\n",
    "        if k == 0:\n",
    "            pass\n",
    "        else:\n",
    "            if int(row[7]) in classes and int(row[1]) > min_img_size:\n",
    "                test_data.append([cv2.resize(plt.imread(rootpath + row[0]), (IMG_SIZE,IMG_SIZE)),int(row[7])])\n",
    "                # save images per class\n",
    "                im = Image.open(rootpath + row[0])\n",
    "                im.save(target_dir+'Class'+str(int(row[7]))+'/'+str(file_index)+'.ppm')\n",
    "                file_index += 1\n",
    "            else:\n",
    "                pass\n",
    "        k += 1\n",
    "    gtFile.close()\n",
    "    \n",
    "    return test_data"
   ]
  },
  {
   "cell_type": "code",
   "execution_count": 4,
   "metadata": {},
   "outputs": [
    {
     "ename": "FileExistsError",
     "evalue": "[Errno 17] File exists: 'Test_Images/'",
     "output_type": "error",
     "traceback": [
      "\u001b[0;31m---------------------------------------------------------------------------\u001b[0m",
      "\u001b[0;31mFileExistsError\u001b[0m                           Traceback (most recent call last)",
      "\u001b[0;32m<ipython-input-4-62ade31a2049>\u001b[0m in \u001b[0;36m<module>\u001b[0;34m\u001b[0m\n\u001b[1;32m      1\u001b[0m \u001b[0;31m# generate directory\u001b[0m\u001b[0;34m\u001b[0m\u001b[0;34m\u001b[0m\u001b[0;34m\u001b[0m\u001b[0m\n\u001b[0;32m----> 2\u001b[0;31m \u001b[0mos\u001b[0m\u001b[0;34m.\u001b[0m\u001b[0mmkdir\u001b[0m\u001b[0;34m(\u001b[0m\u001b[0;34m'Test_Images/'\u001b[0m\u001b[0;34m)\u001b[0m\u001b[0;34m\u001b[0m\u001b[0;34m\u001b[0m\u001b[0m\n\u001b[0m\u001b[1;32m      3\u001b[0m \u001b[0;32mfor\u001b[0m \u001b[0mc\u001b[0m \u001b[0;32min\u001b[0m \u001b[0mrange\u001b[0m\u001b[0;34m(\u001b[0m\u001b[0;36m0\u001b[0m\u001b[0;34m,\u001b[0m\u001b[0;36m43\u001b[0m\u001b[0;34m)\u001b[0m\u001b[0;34m:\u001b[0m\u001b[0;34m\u001b[0m\u001b[0;34m\u001b[0m\u001b[0m\n\u001b[1;32m      4\u001b[0m     \u001b[0mos\u001b[0m\u001b[0;34m.\u001b[0m\u001b[0mmkdir\u001b[0m\u001b[0;34m(\u001b[0m\u001b[0;34m'Test_Images/'\u001b[0m\u001b[0;34m+\u001b[0m\u001b[0;34m'Class'\u001b[0m\u001b[0;34m+\u001b[0m\u001b[0mstr\u001b[0m\u001b[0;34m(\u001b[0m\u001b[0mc\u001b[0m\u001b[0;34m)\u001b[0m\u001b[0;34m)\u001b[0m\u001b[0;34m\u001b[0m\u001b[0;34m\u001b[0m\u001b[0m\n",
      "\u001b[0;31mFileExistsError\u001b[0m: [Errno 17] File exists: 'Test_Images/'"
     ]
    }
   ],
   "source": [
    "# generate directory\n",
    "os.mkdir('Test_Images/')\n",
    "for c in range(0,43):\n",
    "    os.mkdir('Test_Images/'+'Class'+str(c)) "
   ]
  },
  {
   "cell_type": "code",
   "execution_count": 5,
   "metadata": {},
   "outputs": [],
   "source": [
    "classes = np.arange(0,43).astype('uint8')\n",
    "IMG_SIZE = 48\n",
    "test_data = readTrafficSigns('GTSRB/Final_Test/Images/', IMG_SIZE, classes, target_dir='Test_Images/', min_img_size=5)\n"
   ]
  },
  {
   "cell_type": "code",
   "execution_count": 6,
   "metadata": {},
   "outputs": [],
   "source": [
    "X = []\n",
    "labels = []\n",
    "\n",
    "for features, label in test_data:\n",
    "    X.append(features)\n",
    "    labels.append(label)\n",
    "    \n",
    "X = np.reshape(X, (-1, IMG_SIZE, IMG_SIZE, 3))\n"
   ]
  },
  {
   "cell_type": "code",
   "execution_count": 7,
   "metadata": {},
   "outputs": [],
   "source": [
    "def label_trafo(labels, num_labels):\n",
    "    new_labels = []\n",
    "    for label in labels:\n",
    "        tmp = np.zeros((num_labels))\n",
    "        tmp[int(label)] = 1\n",
    "        new_labels.append(tmp)\n",
    "    return new_labels"
   ]
  },
  {
   "cell_type": "code",
   "execution_count": 8,
   "metadata": {},
   "outputs": [],
   "source": [
    "y = label_trafo(labels, 43)\n"
   ]
  },
  {
   "cell_type": "code",
   "execution_count": 9,
   "metadata": {},
   "outputs": [],
   "source": [
    "np.save(\"test_features\", X)\n",
    "np.save('test_labels', y)"
   ]
  }
 ],
 "metadata": {
  "kernelspec": {
   "display_name": "Python 3",
   "language": "python",
   "name": "python3"
  },
  "language_info": {
   "codemirror_mode": {
    "name": "ipython",
    "version": 3
   },
   "file_extension": ".py",
   "mimetype": "text/x-python",
   "name": "python",
   "nbconvert_exporter": "python",
   "pygments_lexer": "ipython3",
   "version": "3.7.4"
  }
 },
 "nbformat": 4,
 "nbformat_minor": 2
}
