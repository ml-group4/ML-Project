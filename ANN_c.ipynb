{
 "cells": [
  {
   "cell_type": "code",
   "execution_count": 1,
   "metadata": {},
   "outputs": [
    {
     "name": "stderr",
     "output_type": "stream",
     "text": [
      "Using TensorFlow backend.\n"
     ]
    }
   ],
   "source": [
    "import numpy as np\n",
    "import pandas as pd\n",
    "import os\n",
    "#import matplotlib.pyplot as plt\n",
    "import cv2\n",
    "#import csv\n",
    "#from keras.utils import to_categorical\n",
    "from keras.layers import Dense,Conv2D,Flatten,MaxPooling2D,Dropout, BatchNormalization, Activation\n",
    "from keras.models import Sequential\n",
    "from keras.optimizers import rmsprop\n",
    "#import random\n",
    "#from PIL import Image\n",
    "from sklearn.model_selection import train_test_split\n",
    "from keras import models\n",
    "from keras import layers"
   ]
  },
  {
   "cell_type": "code",
   "execution_count": 2,
   "metadata": {},
   "outputs": [],
   "source": [
    "np.random.seed(1)\n",
    "\n",
    "\n",
    "# Processing training data\n",
    "# -> appending images in a list 'train_images'\n",
    "# -> appending labels in a list 'train_labels'\n",
    "\n",
    "train_images = []\n",
    "train_labels = []\n",
    "shape = (50, 50)\n",
    "train_path = 'Training_Set//GTSRB//Final_Training//Images'\n",
    "for c in range(43):\n",
    "        sub_dir = train_path + '//' + format(c, '05d')  # subdirectory for class\n",
    "        for filename in os.listdir(sub_dir):\n",
    "            if filename.split('.')[1] == 'ppm':\n",
    "                img = cv2.imread(os.path.join(sub_dir, filename))\n",
    "                train_labels.append(c)\n",
    "                # Resize all images to a specific shape\n",
    "                img = cv2.resize(img, shape)\n",
    "\n",
    "                train_images.append(img)\n",
    "# Converting train_images to array\n",
    "train_images = np.array(train_images)\n",
    "# Converting labels into One Hot encoded sparse matrix\n",
    "train_labels = pd.get_dummies(train_labels).values\n",
    "\n",
    "\n",
    "# Splitting Training data into train and validation dataset\n",
    "x_train, x_val, y_train, y_val = train_test_split(train_images, train_labels, random_state=1)"
   ]
  },
  {
   "cell_type": "code",
   "execution_count": 3,
   "metadata": {},
   "outputs": [
    {
     "name": "stdout",
     "output_type": "stream",
     "text": [
      "WARNING:tensorflow:From C:\\ProgramData\\Anaconda3\\lib\\site-packages\\tensorflow\\python\\framework\\op_def_library.py:263: colocate_with (from tensorflow.python.framework.ops) is deprecated and will be removed in a future version.\n",
      "Instructions for updating:\n",
      "Colocations handled automatically by placer.\n"
     ]
    }
   ],
   "source": [
    "model = Sequential()\n",
    "model.add(BatchNormalization())\n",
    "model.add(Flatten())\n",
    "model.add(layers.Dense(512, activation='relu'))\n",
    "model.add(layers.Dense(256, activation='relu'))\n",
    "model.add(layers.Dense(128, activation='relu')) \n",
    "model.add(Dropout(0.3)) #Overfitting vermeiden\n",
    "model.add(Dense(43, activation='softmax'))\n",
    "model.compile(\n",
    "loss='categorical_crossentropy',\n",
    "metrics=['acc'],\n",
    "optimizer='RMSprop')"
   ]
  },
  {
   "cell_type": "code",
   "execution_count": 9,
   "metadata": {},
   "outputs": [
    {
     "name": "stdout",
     "output_type": "stream",
     "text": [
      "Train on 39209 samples, validate on 9803 samples\n",
      "Epoch 1/30\n",
      "39209/39209 [==============================] - 6s 156us/step - loss: 0.0652 - acc: 0.9856 - val_loss: 0.0307 - val_acc: 0.9945\n",
      "Epoch 2/30\n",
      "39209/39209 [==============================] - 6s 156us/step - loss: 0.0595 - acc: 0.9875 - val_loss: 0.0442 - val_acc: 0.9907\n",
      "Epoch 3/30\n",
      "39209/39209 [==============================] - 6s 156us/step - loss: 0.0661 - acc: 0.9863 - val_loss: 0.0768 - val_acc: 0.9824\n",
      "Epoch 4/30\n",
      "39209/39209 [==============================] - 6s 155us/step - loss: 0.0630 - acc: 0.9863 - val_loss: 0.0714 - val_acc: 0.9817\n",
      "Epoch 5/30\n",
      "39209/39209 [==============================] - 6s 152us/step - loss: 0.0698 - acc: 0.9860 - val_loss: 0.0408 - val_acc: 0.9914\n",
      "Epoch 6/30\n",
      "39209/39209 [==============================] - 6s 152us/step - loss: 0.0528 - acc: 0.9887 - val_loss: 0.0591 - val_acc: 0.9899\n",
      "Epoch 7/30\n",
      "39209/39209 [==============================] - 6s 152us/step - loss: 0.0733 - acc: 0.9855 - val_loss: 0.0292 - val_acc: 0.9932\n",
      "Epoch 8/30\n",
      "39209/39209 [==============================] - 6s 153us/step - loss: 0.0673 - acc: 0.9880 - val_loss: 0.0234 - val_acc: 0.9962\n",
      "Epoch 9/30\n",
      "39209/39209 [==============================] - 6s 153us/step - loss: 0.0654 - acc: 0.9866 - val_loss: 0.0611 - val_acc: 0.9860\n",
      "Epoch 10/30\n",
      "39209/39209 [==============================] - 6s 151us/step - loss: 0.0537 - acc: 0.9888 - val_loss: 0.0374 - val_acc: 0.9913\n",
      "Epoch 11/30\n",
      "39209/39209 [==============================] - 6s 152us/step - loss: 0.0661 - acc: 0.9873 - val_loss: 0.0712 - val_acc: 0.9831\n",
      "Epoch 12/30\n",
      "39209/39209 [==============================] - 6s 152us/step - loss: 0.0587 - acc: 0.9888 - val_loss: 0.0235 - val_acc: 0.9968\n",
      "Epoch 13/30\n",
      "39209/39209 [==============================] - 6s 151us/step - loss: 0.0507 - acc: 0.9900 - val_loss: 0.0399 - val_acc: 0.9913\n",
      "Epoch 14/30\n",
      "39209/39209 [==============================] - 6s 152us/step - loss: 0.0637 - acc: 0.9877 - val_loss: 0.0580 - val_acc: 0.9875\n",
      "Epoch 15/30\n",
      "39209/39209 [==============================] - 6s 152us/step - loss: 0.0541 - acc: 0.9887 - val_loss: 0.3106 - val_acc: 0.9571\n",
      "Epoch 16/30\n",
      "39209/39209 [==============================] - 6s 152us/step - loss: 0.0540 - acc: 0.9896 - val_loss: 0.0186 - val_acc: 0.9977\n",
      "Epoch 17/30\n",
      "39209/39209 [==============================] - 6s 153us/step - loss: 0.0613 - acc: 0.9881 - val_loss: 0.0221 - val_acc: 0.9964\n",
      "Epoch 18/30\n",
      "39209/39209 [==============================] - 6s 165us/step - loss: 0.0504 - acc: 0.9896 - val_loss: 0.0225 - val_acc: 0.9956\n",
      "Epoch 19/30\n",
      "39209/39209 [==============================] - 6s 163us/step - loss: 0.0536 - acc: 0.9894 - val_loss: 0.0252 - val_acc: 0.9955\n",
      "Epoch 20/30\n",
      "39209/39209 [==============================] - 6s 153us/step - loss: 0.0507 - acc: 0.9902 - val_loss: 0.0312 - val_acc: 0.9938\n",
      "Epoch 21/30\n",
      "39209/39209 [==============================] - 6s 152us/step - loss: 0.0500 - acc: 0.9902 - val_loss: 0.0201 - val_acc: 0.9970\n",
      "Epoch 22/30\n",
      "39209/39209 [==============================] - 6s 155us/step - loss: 0.0539 - acc: 0.9896 - val_loss: 0.0227 - val_acc: 0.9968\n",
      "Epoch 23/30\n",
      "39209/39209 [==============================] - 6s 157us/step - loss: 0.0494 - acc: 0.9907 - val_loss: 0.0198 - val_acc: 0.9974\n",
      "Epoch 24/30\n",
      "39209/39209 [==============================] - 6s 157us/step - loss: 0.0574 - acc: 0.9890 - val_loss: 0.0180 - val_acc: 0.9976\n",
      "Epoch 25/30\n",
      "39209/39209 [==============================] - 6s 154us/step - loss: 0.0624 - acc: 0.9886 - val_loss: 0.0424 - val_acc: 0.9918\n",
      "Epoch 26/30\n",
      "39209/39209 [==============================] - 6s 155us/step - loss: 0.0613 - acc: 0.9896 - val_loss: 0.0727 - val_acc: 0.9866\n",
      "Epoch 27/30\n",
      "39209/39209 [==============================] - 6s 155us/step - loss: 0.0478 - acc: 0.9902 - val_loss: 0.0607 - val_acc: 0.9902\n",
      "Epoch 28/30\n",
      "39209/39209 [==============================] - 6s 154us/step - loss: 0.0592 - acc: 0.9899 - val_loss: 0.0304 - val_acc: 0.9934\n",
      "Epoch 29/30\n",
      "39209/39209 [==============================] - 6s 155us/step - loss: 0.0414 - acc: 0.9922 - val_loss: 0.0266 - val_acc: 0.9954\n",
      "Epoch 30/30\n",
      "39209/39209 [==============================] - 6s 154us/step - loss: 0.0440 - acc: 0.9906 - val_loss: 0.0165 - val_acc: 0.9981\n"
     ]
    }
   ],
   "source": [
    "history = model.fit(train_images, train_labels, epochs=30,batch_size=512,validation_data=(x_val,y_val))"
   ]
  },
  {
   "cell_type": "code",
   "execution_count": 18,
   "metadata": {},
   "outputs": [],
   "source": [
    "mae_history = history.history['val_loss']\n",
    "all_mae_histories = []\n",
    "\n",
    "all_mae_histories.append(mae_history)\n",
    "\n",
    "average_mae_history = [\n",
    "    np.mean([x[i] for x in all_mae_histories]) for i in range(30)]"
   ]
  },
  {
   "cell_type": "code",
   "execution_count": 20,
   "metadata": {},
   "outputs": [
    {
     "data": {
      "image/png": "[encoded data removed]",
      "text/plain": [
       "<Figure size 432x288 with 1 Axes>"
      ]
     },
     "metadata": {
      "needs_background": "light"
     },
     "output_type": "display_data"
    }
   ],
   "source": [
    "import matplotlib.pyplot as plt\n",
    "\n",
    "plt.plot(range(1, len(average_mae_history) + 1), average_mae_history)\n",
    "plt.xlabel('Epochs')\n",
    "plt.ylabel('Validation loss')\n",
    "plt.show()"
   ]
  }
 ],
 "metadata": {
  "kernelspec": {
   "display_name": "Python 3",
   "language": "python",
   "name": "python3"
  },
  "language_info": {
   "codemirror_mode": {
    "name": "ipython",
    "version": 3
   },
   "file_extension": ".py",
   "mimetype": "text/x-python",
   "name": "python",
   "nbconvert_exporter": "python",
   "pygments_lexer": "ipython3",
   "version": "3.7.3"
  }
 },
 "nbformat": 4,
 "nbformat_minor": 4
}
