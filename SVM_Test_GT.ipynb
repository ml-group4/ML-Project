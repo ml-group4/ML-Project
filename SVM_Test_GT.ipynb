{
 "cells": [
  {
   "cell_type": "code",
   "execution_count": 1,
   "metadata": {},
   "outputs": [],
   "source": [
    "import cv2\n",
    "from skimage.feature import hog\n",
    "import numpy as np\n",
    "import mahotas\n",
    "from sklearn.svm import LinearSVC, SVC, NuSVC\n",
    "from sklearn.preprocessing import StandardScaler\n",
    "from sklearn.model_selection import train_test_split\n",
    "from skopt import gp_minimize\n",
    "from PIL import Image\n",
    "import matplotlib.pyplot as plt"
   ]
  },
  {
   "cell_type": "code",
   "execution_count": 2,
   "metadata": {},
   "outputs": [],
   "source": [
    "labels = np.load('labels_SVM.npy')\n",
    "features = np.load('features.npy')"
   ]
  },
  {
   "cell_type": "code",
   "execution_count": 3,
   "metadata": {},
   "outputs": [],
   "source": [
    "def color_hist(input_image, nbins=32):\n",
    "    ch1 = np.histogram(input_image[:,:,0], bins = nbins, range = (0, 256))[0] # [0] is because we need only the histogram, not bins edges\n",
    "    ch2 = np.histogram(input_image[:,:,1], bins = nbins, range = (0, 256))[0]\n",
    "    ch3 = np.histogram(input_image[:,:,2], bins = nbins, range = (0, 256))[0]\n",
    "    return np.hstack((ch1, ch2, ch3))"
   ]
  },
  {
   "cell_type": "code",
   "execution_count": 4,
   "metadata": {},
   "outputs": [],
   "source": [
    "def extract_features(input_image, nbins, orient, pix_per_cell, cell_per_block):\n",
    "    output = []\n",
    "    for img in input_image:\n",
    "        img_ = np.asarray(Image.fromarray(img).convert('L'))\n",
    "        features = hog(img_, orientations = orient, pixels_per_cell = (pix_per_cell, pix_per_cell), \n",
    "                       cells_per_block = (cell_per_block, cell_per_block), \n",
    "                       multichannel=False, transform_sqrt = True, visualize = False, feature_vector = True )\n",
    "        output.append(np.hstack((cv2.resize(img, dsize=(16,16)).ravel(),color_hist(img, nbins),features)))\n",
    "    return np.array(output)\n"
   ]
  },
  {
   "cell_type": "code",
   "execution_count": 5,
   "metadata": {},
   "outputs": [],
   "source": [
    "nbins, orient, pix_per_cell, cell_per_block = [64, 8, 4, 1]\n",
    "features_ = extract_features(features, nbins, orient, pix_per_cell, cell_per_block)\n",
    "y = labels\n",
    "X = features_                    \n",
    "# Fit a per-column scaler\n",
    "X_scaler = StandardScaler().fit(X)\n",
    "# Apply the scaler to X\n",
    "scaled_X = X_scaler.transform(X)\n",
    "X_train, X_test, y_train, y_test = train_test_split(scaled_X, y, test_size=0.2, random_state=22)"
   ]
  },
  {
   "cell_type": "code",
   "execution_count": 6,
   "metadata": {},
   "outputs": [
    {
     "name": "stdout",
     "output_type": "stream",
     "text": [
      "0.9605967865340475\n"
     ]
    },
    {
     "name": "stderr",
     "output_type": "stream",
     "text": [
      "/home/darius/anaconda3/lib/python3.7/site-packages/sklearn/svm/base.py:929: ConvergenceWarning: Liblinear failed to converge, increase the number of iterations.\n",
      "  \"the number of iterations.\", ConvergenceWarning)\n"
     ]
    }
   ],
   "source": [
    "svc = LinearSVC(dual=True, C=1, max_iter=10)\n",
    "svc.fit(X_train, y_train)\n",
    "test_acc = svc.score(X_test, y_test)\n",
    "print(test_acc)"
   ]
  },
  {
   "cell_type": "code",
   "execution_count": 7,
   "metadata": {},
   "outputs": [
    {
     "data": {
      "text/plain": [
       "0.9833583065004623"
      ]
     },
     "execution_count": 7,
     "metadata": {},
     "output_type": "execute_result"
    }
   ],
   "source": [
    "svc.score(X_train, y_train)"
   ]
  },
  {
   "cell_type": "code",
   "execution_count": null,
   "metadata": {},
   "outputs": [],
   "source": []
  },
  {
   "cell_type": "code",
   "execution_count": null,
   "metadata": {},
   "outputs": [],
   "source": []
  },
  {
   "cell_type": "code",
   "execution_count": null,
   "metadata": {},
   "outputs": [],
   "source": []
  },
  {
   "cell_type": "code",
   "execution_count": null,
   "metadata": {},
   "outputs": [],
   "source": []
  },
  {
   "cell_type": "code",
   "execution_count": null,
   "metadata": {},
   "outputs": [],
   "source": []
  },
  {
   "cell_type": "code",
   "execution_count": null,
   "metadata": {},
   "outputs": [],
   "source": [
    "img_ = np.asarray(Image.fromarray(features[2]).convert('L'))\n",
    "features_ = hog(img_, orientations = orient, pixels_per_cell = (pix_per_cell, pix_per_cell), \n",
    "               cells_per_block = (cell_per_block, cell_per_block), \n",
    "               multichannel=False, transform_sqrt = True, visualize = False, feature_vector = True )\n",
    "print(features_.shape)"
   ]
  },
  {
   "cell_type": "code",
   "execution_count": null,
   "metadata": {},
   "outputs": [],
   "source": [
    "svc = SVC(gamma = 'auto', cache_size = 2048)\n",
    "svc.fit(X_train, y_train)\n",
    "test_acc = svc.score(X_test, y_test)"
   ]
  },
  {
   "cell_type": "code",
   "execution_count": null,
   "metadata": {
    "scrolled": false
   },
   "outputs": [],
   "source": [
    "space  = [(8, 32),                  # Number of bins for color histogram\n",
    "          (4, 8),                  # HOG number of orientations\n",
    "          (4, 8),                  # HOG pixels per cell\n",
    "          (1, 2)]                   # HOG cells per block\n",
    "i = 0\n",
    "\n",
    "def obj(params):\n",
    "    global i\n",
    "    nbins, orient, pix_per_cell, cell_per_block = params\n",
    "    # Use only every 10th images to speed things up.\n",
    "    features_ = extract_features(features[::20,:,:,:], nbins, orient, pix_per_cell, cell_per_block)\n",
    "    y = labels[::20]\n",
    "    X = features_                    \n",
    "    # Fit a per-column scaler\n",
    "    X_scaler = StandardScaler().fit(X)\n",
    "    # Apply the scaler to X\n",
    "    scaled_X = X_scaler.transform(X)\n",
    "    X_train, X_test, y_train, y_test = train_test_split(scaled_X, y, test_size=0.2, random_state=22)\n",
    "    svc = LinearSVC()\n",
    "    svc.fit(X_train, y_train)\n",
    "    test_acc = svc.score(X_test, y_test)\n",
    "    print (i, params, test_acc)\n",
    "    i += 1\n",
    "    return 1.0 - test_acc\n",
    "    \n",
    "res = gp_minimize(obj, space, n_calls = 20, random_state = 22)\n",
    "print(\"Best score=%.4f\" % res.fun)"
   ]
  }
 ],
 "metadata": {
  "kernelspec": {
   "display_name": "Python 3",
   "language": "python",
   "name": "python3"
  },
  "language_info": {
   "codemirror_mode": {
    "name": "ipython",
    "version": 3
   },
   "file_extension": ".py",
   "mimetype": "text/x-python",
   "name": "python",
   "nbconvert_exporter": "python",
   "pygments_lexer": "ipython3",
   "version": "3.7.4"
  }
 },
 "nbformat": 4,
 "nbformat_minor": 2
}
